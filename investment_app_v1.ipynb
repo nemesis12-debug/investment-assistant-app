{
  "nbformat": 4,
  "nbformat_minor": 0,
  "metadata": {
    "colab": {
      "provenance": [],
      "authorship_tag": "ABX9TyNP/y4e4pn4YLCA7nR9f1Ld",
      "include_colab_link": true
    },
    "kernelspec": {
      "name": "python3",
      "display_name": "Python 3"
    },
    "language_info": {
      "name": "python"
    }
  },
  "cells": [
    {
      "cell_type": "markdown",
      "metadata": {
        "id": "view-in-github",
        "colab_type": "text"
      },
      "source": [
        "<a href=\"https://colab.research.google.com/github/nemesis12-debug/investment-assistant-app/blob/main/investment_app_v1.ipynb\" target=\"_parent\"><img src=\"https://colab.research.google.com/assets/colab-badge.svg\" alt=\"Open In Colab\"/></a>"
      ]
    },
    {
      "cell_type": "code",
      "execution_count": null,
      "metadata": {
        "id": "7cNMiYDyeV-R"
      },
      "outputs": [],
      "source": [
        "!pip install streamlit"
      ]
    },
    {
      "cell_type": "code",
      "source": [
        "import streamlit as st\n",
        "\n",
        "st.set_page_config(page_title=\"My Investment App\", layout=\"wide\")\n",
        "\n",
        "st.title(\"📈 Investment Dashboard\")\n",
        "st.subheader(\"Your personal stock-tracking co-pilot\")\n",
        "\n",
        "col1, col2, col3 = st.columns(3)\n",
        "col1.metric(\"Top Stock\", \"AAPL\", \"+3.25%\")\n",
        "col2.metric(\"Portfolio Value\", \"$15,230\", \"+1.1%\")\n",
        "col3.metric(\"AI Signal\", \"82 / 100\")\n"
      ],
      "metadata": {
        "id": "iSPl2c6_fBWI"
      },
      "execution_count": null,
      "outputs": []
    }
  ]
}