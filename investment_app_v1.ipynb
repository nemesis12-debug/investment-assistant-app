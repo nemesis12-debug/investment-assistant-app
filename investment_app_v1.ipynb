{
  "nbformat": 4,
  "nbformat_minor": 0,
  "metadata": {
    "colab": {
      "provenance": [],
      "authorship_tag": "ABX9TyPuGDDQC/3oXiiZICQ7Awa4",
      "include_colab_link": true
    },
    "kernelspec": {
      "name": "python3",
      "display_name": "Python 3"
    },
    "language_info": {
      "name": "python"
    }
  },
  "cells": [
    {
      "cell_type": "markdown",
      "metadata": {
        "id": "view-in-github",
        "colab_type": "text"
      },
      "source": [
        "<a href=\"https://colab.research.google.com/github/nemesis12-debug/investment-assistant-app/blob/main/investment_app_v1.ipynb\" target=\"_parent\"><img src=\"https://colab.research.google.com/assets/colab-badge.svg\" alt=\"Open In Colab\"/></a>"
      ]
    },
    {
      "cell_type": "code",
      "source": [
        "# This writes a clean Streamlit app file in Colab\n",
        "%%writefile app.py\n",
        "import streamlit as st\n",
        "\n",
        "st.set_page_config(page_title=\"Investment Dashboard\", layout=\"wide\")\n",
        "\n",
        "st.title(\"📈 AI Investment Dashboard\")\n",
        "st.write(\"Welcome to your mobile-friendly stock tracking app!\")\n",
        "\n",
        "col1, col2, col3 = st.columns(3)\n",
        "col1.metric(\"Top Stock\", \"AAPL\", \"+3.25%\")\n",
        "col2.metric(\"Portfolio Value\", \"$15,230\", \"+1.1%\")\n",
        "col3.metric(\"AI Signal Score\", \"82 / 100\")\n"
      ],
      "metadata": {
        "id": "kqGfROk0ovAo"
      },
      "execution_count": null,
      "outputs": []
    },
    {
      "cell_type": "code",
      "source": [
        "%%writefile requirements.txt\n",
        "streamlit\n"
      ],
      "metadata": {
        "id": "_drBf4dQo0br"
      },
      "execution_count": null,
      "outputs": []
    },
    {
      "cell_type": "code",
      "source": [
        "from google.colab import files\n",
        "files.download('app.py')"
      ],
      "metadata": {
        "id": "qg03xxlWpAFc"
      },
      "execution_count": null,
      "outputs": []
    },
    {
      "cell_type": "code",
      "source": [
        "files.download('requirements.txt')\n"
      ],
      "metadata": {
        "id": "2qyYiBL9pHvb"
      },
      "execution_count": null,
      "outputs": []
    }
  ]
}