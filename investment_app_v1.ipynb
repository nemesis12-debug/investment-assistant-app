{
  "nbformat": 4,
  "nbformat_minor": 0,
  "metadata": {
    "colab": {
      "provenance": [],
      "authorship_tag": "ABX9TyMxX1FY9py8Ny6HF0trc7Ik"
    },
    "kernelspec": {
      "name": "python3",
      "display_name": "Python 3"
    },
    "language_info": {
      "name": "python"
    }
  },
  "cells": [
    {
      "cell_type": "code",
      "execution_count": null,
      "metadata": {
        "id": "7cNMiYDyeV-R"
      },
      "outputs": [],
      "source": [
        "!pip install streamlit"
      ]
    },
    {
      "cell_type": "code",
      "source": [
        "%%writefile app.py\n",
        "import streamlit as st\n",
        "\n",
        "st.set_page_config(page_title=\"My Investment App\", layout=\"wide\")\n",
        "\n",
        "st.title(\"📈 Investment Dashboard\")\n",
        "st.subheader(\"Your personal stock-tracking co-pilot\")\n",
        "\n",
        "col1, col2, col3 = st.columns(3)\n",
        "col1.metric(\"Top Stock\", \"AAPL\", \"+3.25%\")\n",
        "col2.metric(\"Portfolio Value\", \"$15,230\", \"+1.1%\")\n",
        "col3.metric(\"AI Signal\", \"82 / 100\")\n"
      ],
      "metadata": {
        "id": "iSPl2c6_fBWI"
      },
      "execution_count": null,
      "outputs": []
    },
    {
      "cell_type": "code",
      "source": [
        "%%writefile requirments.text"
      ],
      "metadata": {
        "id": "et3gB3FRn8sM"
      },
      "execution_count": null,
      "outputs": []
    }
  ]
}